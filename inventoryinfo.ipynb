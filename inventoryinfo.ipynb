{
 "cells": [
  {
   "attachments": {},
   "cell_type": "markdown",
   "metadata": {},
   "source": [
    "# Assignment Cassandra"
   ]
  },
  {
   "attachments": {},
   "cell_type": "markdown",
   "metadata": {},
   "source": [
    "### Importing Packages"
   ]
  },
  {
   "cell_type": "code",
   "execution_count": 1,
   "metadata": {},
   "outputs": [],
   "source": [
    "import pandas as pd\n",
    "from cassandra.cluster import Cluster"
   ]
  },
  {
   "attachments": {},
   "cell_type": "markdown",
   "metadata": {},
   "source": [
    "### Creating Session connection to cassandra cluster"
   ]
  },
  {
   "cell_type": "code",
   "execution_count": 2,
   "metadata": {},
   "outputs": [],
   "source": [
    "clstr = Cluster()\n",
    "session = clstr.connect()"
   ]
  },
  {
   "attachments": {},
   "cell_type": "markdown",
   "metadata": {},
   "source": [
    "### Drop keyspace m14 if it exists"
   ]
  },
  {
   "cell_type": "code",
   "execution_count": 3,
   "metadata": {},
   "outputs": [
    {
     "data": {
      "text/plain": [
       "<cassandra.cluster.ResultSet at 0x7fa5fc142bd0>"
      ]
     },
     "execution_count": 3,
     "metadata": {},
     "output_type": "execute_result"
    }
   ],
   "source": [
    "session.execute(\"DROP KEYSPACE IF EXISTS m14\")"
   ]
  },
  {
   "attachments": {},
   "cell_type": "markdown",
   "metadata": {},
   "source": [
    "### Describing all keyspaces"
   ]
  },
  {
   "cell_type": "code",
   "execution_count": 4,
   "metadata": {},
   "outputs": [
    {
     "name": "stdout",
     "output_type": "stream",
     "text": [
      "system\n",
      "system_auth\n",
      "system_distributed\n",
      "system_schema\n",
      "system_traces\n",
      "system_views\n",
      "system_virtual_schema\n",
      "w04python\n"
     ]
    }
   ],
   "source": [
    "rows = session.execute(\"desc keyspaces\")\n",
    "for row in rows:\n",
    "    print(f\"{row[0]}\")"
   ]
  },
  {
   "attachments": {},
   "cell_type": "markdown",
   "metadata": {},
   "source": [
    "### Creating Keyspace m14"
   ]
  },
  {
   "cell_type": "code",
   "execution_count": 5,
   "metadata": {},
   "outputs": [
    {
     "data": {
      "text/plain": [
       "<cassandra.cluster.ResultSet at 0x7fa5c7018fd0>"
      ]
     },
     "execution_count": 5,
     "metadata": {},
     "output_type": "execute_result"
    }
   ],
   "source": [
    "session.execute(\"CREATE KEYSPACE IF NOT EXISTS m14 WITH REPLICATION = {'class':'SimpleStrategy', 'replication_factor':2}\")"
   ]
  },
  {
   "attachments": {},
   "cell_type": "markdown",
   "metadata": {},
   "source": [
    "### Describing All Keyspaces to check m14"
   ]
  },
  {
   "cell_type": "code",
   "execution_count": 6,
   "metadata": {},
   "outputs": [
    {
     "name": "stdout",
     "output_type": "stream",
     "text": [
      "m14\n",
      "system\n",
      "system_auth\n",
      "system_distributed\n",
      "system_schema\n",
      "system_traces\n",
      "system_views\n",
      "system_virtual_schema\n",
      "w04python\n"
     ]
    }
   ],
   "source": [
    "rows = session.execute(\"desc keyspaces\")\n",
    "for row in rows:\n",
    "    print(f\"{row[0]}\")"
   ]
  },
  {
   "attachments": {},
   "cell_type": "markdown",
   "metadata": {},
   "source": [
    "### Creating an inventory table in m14"
   ]
  },
  {
   "cell_type": "code",
   "execution_count": 7,
   "metadata": {},
   "outputs": [
    {
     "data": {
      "text/plain": [
       "<cassandra.cluster.ResultSet at 0x7fa5c75af410>"
      ]
     },
     "execution_count": 7,
     "metadata": {},
     "output_type": "execute_result"
    }
   ],
   "source": [
    "session.execute(\"\"\"\n",
    "CREATE TABLE IF NOT EXISTS m14.inventory ( \n",
    "    SKU TEXT, \n",
    "    name TEXT, \n",
    "    description TEXT, \n",
    "    warehouse_num INT, \n",
    "    PRIMARY KEY(SKU)\n",
    ");\n",
    "\"\"\")"
   ]
  },
  {
   "attachments": {},
   "cell_type": "markdown",
   "metadata": {},
   "source": [
    "### Reading CSV file"
   ]
  },
  {
   "cell_type": "code",
   "execution_count": 8,
   "metadata": {},
   "outputs": [
    {
     "data": {
      "text/html": [
       "<div>\n",
       "<style scoped>\n",
       "    .dataframe tbody tr th:only-of-type {\n",
       "        vertical-align: middle;\n",
       "    }\n",
       "\n",
       "    .dataframe tbody tr th {\n",
       "        vertical-align: top;\n",
       "    }\n",
       "\n",
       "    .dataframe thead th {\n",
       "        text-align: right;\n",
       "    }\n",
       "</style>\n",
       "<table border=\"1\" class=\"dataframe\">\n",
       "  <thead>\n",
       "    <tr style=\"text-align: right;\">\n",
       "      <th></th>\n",
       "      <th>SKU</th>\n",
       "      <th>name</th>\n",
       "      <th>description</th>\n",
       "      <th>warehouse_num</th>\n",
       "    </tr>\n",
       "  </thead>\n",
       "  <tbody>\n",
       "    <tr>\n",
       "      <th>0</th>\n",
       "      <td>TSLA001</td>\n",
       "      <td>Model S</td>\n",
       "      <td>Model S is Tesla flagship electric sedan.</td>\n",
       "      <td>101</td>\n",
       "    </tr>\n",
       "    <tr>\n",
       "      <th>1</th>\n",
       "      <td>TSLA002</td>\n",
       "      <td>Model 3</td>\n",
       "      <td>Model 3 is Tesla most affordable electric car.</td>\n",
       "      <td>201</td>\n",
       "    </tr>\n",
       "    <tr>\n",
       "      <th>2</th>\n",
       "      <td>TSLA003</td>\n",
       "      <td>Model X</td>\n",
       "      <td>Model X is an electric SUV known for its falco...</td>\n",
       "      <td>321</td>\n",
       "    </tr>\n",
       "    <tr>\n",
       "      <th>3</th>\n",
       "      <td>TSLA004</td>\n",
       "      <td>Model Y</td>\n",
       "      <td>Model Y is a compact electric SUV with spaciou...</td>\n",
       "      <td>123</td>\n",
       "    </tr>\n",
       "    <tr>\n",
       "      <th>4</th>\n",
       "      <td>TSLA005</td>\n",
       "      <td>Model Plaid S</td>\n",
       "      <td>Model Plaid S is the high-performance version ...</td>\n",
       "      <td>435</td>\n",
       "    </tr>\n",
       "    <tr>\n",
       "      <th>5</th>\n",
       "      <td>TSLA006</td>\n",
       "      <td>Model Plaid X</td>\n",
       "      <td>Model Plaid X is the high-performance version ...</td>\n",
       "      <td>150</td>\n",
       "    </tr>\n",
       "    <tr>\n",
       "      <th>6</th>\n",
       "      <td>TSLA007</td>\n",
       "      <td>Cyber Truck</td>\n",
       "      <td>Cybertruck is an all-electric, futuristic pick...</td>\n",
       "      <td>123</td>\n",
       "    </tr>\n",
       "  </tbody>\n",
       "</table>\n",
       "</div>"
      ],
      "text/plain": [
       "       SKU           name                                        description  \\\n",
       "0  TSLA001        Model S          Model S is Tesla flagship electric sedan.   \n",
       "1  TSLA002        Model 3     Model 3 is Tesla most affordable electric car.   \n",
       "2  TSLA003        Model X  Model X is an electric SUV known for its falco...   \n",
       "3  TSLA004        Model Y  Model Y is a compact electric SUV with spaciou...   \n",
       "4  TSLA005  Model Plaid S  Model Plaid S is the high-performance version ...   \n",
       "5  TSLA006  Model Plaid X  Model Plaid X is the high-performance version ...   \n",
       "6  TSLA007    Cyber Truck  Cybertruck is an all-electric, futuristic pick...   \n",
       "\n",
       "   warehouse_num  \n",
       "0            101  \n",
       "1            201  \n",
       "2            321  \n",
       "3            123  \n",
       "4            435  \n",
       "5            150  \n",
       "6            123  "
      ]
     },
     "execution_count": 8,
     "metadata": {},
     "output_type": "execute_result"
    }
   ],
   "source": [
    "df = pd.read_csv('inventoryinfo.csv')\n",
    "df"
   ]
  },
  {
   "attachments": {},
   "cell_type": "markdown",
   "metadata": {},
   "source": [
    "### Printing the values from DF"
   ]
  },
  {
   "cell_type": "code",
   "execution_count": 9,
   "metadata": {},
   "outputs": [
    {
     "name": "stdout",
     "output_type": "stream",
     "text": [
      "SKU = TSLA001, name =0, description = Model S is Tesla flagship electric sedan., warehouse_num = 101\n",
      "SKU = TSLA002, name =1, description = Model 3 is Tesla most affordable electric car., warehouse_num = 201\n",
      "SKU = TSLA003, name =2, description = Model X is an electric SUV known for its falcon-wing doors and versatile interior., warehouse_num = 321\n",
      "SKU = TSLA004, name =3, description = Model Y is a compact electric SUV with spacious seating and advanced autopilot features., warehouse_num = 123\n",
      "SKU = TSLA005, name =4, description = Model Plaid S is the high-performance version of the Model S., warehouse_num = 435\n",
      "SKU = TSLA006, name =5, description = Model Plaid X is the high-performance version of the Model X., warehouse_num = 150\n",
      "SKU = TSLA007, name =6, description = Cybertruck is an all-electric, futuristic pickup truck designed by Tesla, Inc., warehouse_num = 123\n"
     ]
    }
   ],
   "source": [
    "for index, row in df.iterrows():\n",
    "    print(f\"SKU = {row.SKU}, name ={row.name}, description = {row.description}, warehouse_num = {row.warehouse_num}\")"
   ]
  },
  {
   "attachments": {},
   "cell_type": "markdown",
   "metadata": {},
   "source": [
    "### Inserting the values in to m14.inventory table"
   ]
  },
  {
   "cell_type": "code",
   "execution_count": 10,
   "metadata": {},
   "outputs": [
    {
     "name": "stdout",
     "output_type": "stream",
     "text": [
      "\n",
      "        INSERT INTO m14.inventory (SKU, name, description, warehouse_num)     \n",
      "        VALUES ('TSLA001', 'Model S', 'Model S is Tesla flagship electric sedan.', 101);\n",
      "    \n",
      "\n",
      "        INSERT INTO m14.inventory (SKU, name, description, warehouse_num)     \n",
      "        VALUES ('TSLA002', 'Model 3', 'Model 3 is Tesla most affordable electric car.', 201);\n",
      "    \n",
      "\n",
      "        INSERT INTO m14.inventory (SKU, name, description, warehouse_num)     \n",
      "        VALUES ('TSLA003', 'Model X', 'Model X is an electric SUV known for its falcon-wing doors and versatile interior.', 321);\n",
      "    \n",
      "\n",
      "        INSERT INTO m14.inventory (SKU, name, description, warehouse_num)     \n",
      "        VALUES ('TSLA004', 'Model Y', 'Model Y is a compact electric SUV with spacious seating and advanced autopilot features.', 123);\n",
      "    \n",
      "\n",
      "        INSERT INTO m14.inventory (SKU, name, description, warehouse_num)     \n",
      "        VALUES ('TSLA005', 'Model Plaid S', 'Model Plaid S is the high-performance version of the Model S.', 435);\n",
      "    \n",
      "\n",
      "        INSERT INTO m14.inventory (SKU, name, description, warehouse_num)     \n",
      "        VALUES ('TSLA006', 'Model Plaid X', 'Model Plaid X is the high-performance version of the Model X.', 150);\n",
      "    \n",
      "\n",
      "        INSERT INTO m14.inventory (SKU, name, description, warehouse_num)     \n",
      "        VALUES ('TSLA007', 'Cyber Truck', 'Cybertruck is an all-electric, futuristic pickup truck designed by Tesla, Inc.', 123);\n",
      "    \n"
     ]
    }
   ],
   "source": [
    "for index, row in df.iterrows():\n",
    "    print(f\"\"\"\n",
    "        INSERT INTO m14.inventory (SKU, name, description, warehouse_num)     \n",
    "        VALUES ('{row['SKU']}', '{row['name']}', '{row['description']}', {row['warehouse_num']});\n",
    "    \"\"\")\n",
    "    \n",
    "    session.execute(f\"\"\"\n",
    "        INSERT INTO m14.inventory (SKU, name, description, warehouse_num)     \n",
    "        VALUES ('{row['SKU']}', '{row['name']}', '{row['description']}', {row['warehouse_num']});\n",
    "    \"\"\")\n"
   ]
  },
  {
   "attachments": {},
   "cell_type": "markdown",
   "metadata": {},
   "source": [
    "### Selecting all the data from m14.invetory table"
   ]
  },
  {
   "cell_type": "code",
   "execution_count": 11,
   "metadata": {},
   "outputs": [
    {
     "name": "stdout",
     "output_type": "stream",
     "text": [
      "SKU=TSLA007, name=Cyber Truck, description=Cybertruck is an all-electric, futuristic pickup truck designed by Tesla, Inc., warehouse_num=123\n",
      "SKU=TSLA003, name=Model X, description=Model X is an electric SUV known for its falcon-wing doors and versatile interior., warehouse_num=321\n",
      "SKU=TSLA006, name=Model Plaid X, description=Model Plaid X is the high-performance version of the Model X., warehouse_num=150\n",
      "SKU=TSLA004, name=Model Y, description=Model Y is a compact electric SUV with spacious seating and advanced autopilot features., warehouse_num=123\n",
      "SKU=TSLA002, name=Model 3, description=Model 3 is Tesla most affordable electric car., warehouse_num=201\n",
      "SKU=TSLA001, name=Model S, description=Model S is Tesla flagship electric sedan., warehouse_num=101\n",
      "SKU=TSLA005, name=Model Plaid S, description=Model Plaid S is the high-performance version of the Model S., warehouse_num=435\n"
     ]
    }
   ],
   "source": [
    "rows = session.execute(\"select (SKU, name, description, warehouse_num) from m14.inventory\")\n",
    "for row in rows:\n",
    "    print(f\"SKU={row[0][0]}, name={row[0][1]}, description={row[0][2]}, warehouse_num={row[0][3]}\")\n"
   ]
  },
  {
   "attachments": {},
   "cell_type": "markdown",
   "metadata": {},
   "source": [
    "### Creating a index named warehouse_num for warehouse_num column"
   ]
  },
  {
   "cell_type": "code",
   "execution_count": 12,
   "metadata": {},
   "outputs": [
    {
     "data": {
      "text/plain": [
       "<cassandra.cluster.ResultSet at 0x7fa5c5a45c50>"
      ]
     },
     "execution_count": 12,
     "metadata": {},
     "output_type": "execute_result"
    }
   ],
   "source": [
    "session.execute(\"\"\"\n",
    "    CREATE INDEX IF NOT EXISTS warehouse_num ON m14.inventory (warehouse_num);\n",
    "\"\"\")"
   ]
  },
  {
   "attachments": {},
   "cell_type": "markdown",
   "metadata": {},
   "source": [
    "### selecting name and description with warehouse_num = 123 as filter"
   ]
  },
  {
   "cell_type": "code",
   "execution_count": 13,
   "metadata": {},
   "outputs": [
    {
     "name": "stdout",
     "output_type": "stream",
     "text": [
      "Cyber Truck, Cybertruck is an all-electric, futuristic pickup truck designed by Tesla, Inc.\n",
      "Model Y, Model Y is a compact electric SUV with spacious seating and advanced autopilot features.\n"
     ]
    }
   ],
   "source": [
    "rows = session.execute(\"select (name, description) from m14.inventory where warehouse_num = 123 ALLOW FILTERING\")\n",
    "for row in rows:\n",
    "    print(f\"{row[0][0]}, {row[0][1]}\")"
   ]
  }
 ],
 "metadata": {
  "kernelspec": {
   "display_name": "bd",
   "language": "python",
   "name": "python3"
  },
  "language_info": {
   "codemirror_mode": {
    "name": "ipython",
    "version": 3
   },
   "file_extension": ".py",
   "mimetype": "text/x-python",
   "name": "python",
   "nbconvert_exporter": "python",
   "pygments_lexer": "ipython3",
   "version": "3.11.5"
  },
  "orig_nbformat": 4
 },
 "nbformat": 4,
 "nbformat_minor": 2
}
